{
  "nbformat": 4,
  "nbformat_minor": 0,
  "metadata": {
    "kernelspec": {
      "display_name": "Python 3",
      "language": "python",
      "name": "python3"
    },
    "language_info": {
      "codemirror_mode": {
        "name": "ipython",
        "version": 3
      },
      "file_extension": ".py",
      "mimetype": "text/x-python",
      "name": "python",
      "nbconvert_exporter": "python",
      "pygments_lexer": "ipython3",
      "version": "3.7.4"
    },
    "colab": {
      "provenance": []
    }
  },
  "cells": [
    {
      "cell_type": "markdown",
      "metadata": {
        "id": "Ve2cOW3-EnxE"
      },
      "source": [
        "# <font color='blue'>FUMEC - Analytics com Python</font>\n",
        "## **Lista de exercícios 02 - Tipos básicos de dados**\n",
        "\n",
        "<br>**ATENÇÃO:** para salvar o arquivo .ipynb do notebook, faça da seguinte forma:\n",
        "\n",
        "* **Google Colaboratory**: opção do menu \"Arquivo --> Fazer o donwnload --> Baixar o .ipynb\"\n",
        "\n",
        "* Salve o arquivo com o nome \"**SeuNome_lista02.ipynb**\"\n",
        "\n",
        "<br>\n",
        "\n"
      ]
    },
    {
      "cell_type": "markdown",
      "metadata": {
        "id": "BLPhekz2EnxH"
      },
      "source": [
        "**01) Imprimir uma única string da forma apresentada abaixo (múltiplas linhas)**\n",
        "```\n",
        "Python\n",
        "é uma\n",
        "linguagem\n",
        "bem legal!\n",
        "```"
      ]
    },
    {
      "cell_type": "code",
      "metadata": {
        "id": "Sle_b3vhEnxJ",
        "colab": {
          "base_uri": "https://localhost:8080/"
        },
        "outputId": "d36662f1-408b-4d94-9932-88772772d1bb"
      },
      "source": [
        "# exercício 01 - <escrever o código neste bloco>\n",
        "\n",
        "print(\"Python\\né uma\\nlinguagem\\nbem legal!\")"
      ],
      "execution_count": 1,
      "outputs": [
        {
          "output_type": "stream",
          "name": "stdout",
          "text": [
            "Python\n",
            "é uma\n",
            "linguagem\n",
            "bem legal!\n"
          ]
        }
      ]
    },
    {
      "cell_type": "markdown",
      "metadata": {
        "id": "hmJafBCMEnxN"
      },
      "source": [
        "**02) Imprimir a string cujo código ASCII dos caracteres segue abaixo:**\n",
        "\n",
        "`97 110 97 108 121 116 105 99 115 32 99 111 109 32 112 121 116 104 111 110`\n"
      ]
    },
    {
      "cell_type": "code",
      "metadata": {
        "id": "L0PuBYqxEnxO",
        "colab": {
          "base_uri": "https://localhost:8080/"
        },
        "outputId": "0fee2627-69e2-437d-e6f2-596cb95d434c"
      },
      "source": [
        "# exercício 02 - <escrever o código neste bloco>\n",
        "\n",
        "print(chr(97) + chr(110) + chr(97) + chr(108) + chr(121) + chr(116) + chr(105) + chr(99) + chr(115) + chr(32) + chr(99) + chr(111) + chr(109) + chr(32) + chr(112) + chr(121) + chr(116) + chr(104) + chr(111) + chr(110))"
      ],
      "execution_count": 2,
      "outputs": [
        {
          "output_type": "stream",
          "name": "stdout",
          "text": [
            "analytics com python\n"
          ]
        }
      ]
    },
    {
      "cell_type": "markdown",
      "metadata": {
        "id": "ge22ziLSEnxR"
      },
      "source": [
        "**03) Criar uma variável \"x\" e atribuir o valor \"o rato roeu a roupa\" e outra variável \"y\" com o valor \" do rei de roma\". Concatenar as duas variáveis em uma variável \"z\" e imprimir o conteúdo de \"z\"**"
      ]
    },
    {
      "cell_type": "code",
      "metadata": {
        "id": "UvR1jXWNEnxT",
        "colab": {
          "base_uri": "https://localhost:8080/"
        },
        "outputId": "ade6163c-5ed4-4f40-d9e9-459a82aab121"
      },
      "source": [
        "# exercício 03 - <escrever o código neste bloco>\n",
        "\n",
        "x = \"o rato roeu a roupa\"\n",
        "y = \" do rei de roma\"\n",
        "z = x + y\n",
        "print(z)"
      ],
      "execution_count": 3,
      "outputs": [
        {
          "output_type": "stream",
          "name": "stdout",
          "text": [
            "o rato roeu a roupa do rei de roma\n"
          ]
        }
      ]
    },
    {
      "cell_type": "markdown",
      "metadata": {
        "id": "7BML6APfEnxW"
      },
      "source": [
        "**04) Criar uma lista com as palavras da variável \"z\" do exercício anterior, produzindo a saída abaixo:**\n",
        "\n",
        "```['o', 'rato', 'roeu', 'a', 'roupa', 'do', 'rei', 'de', 'roma']```\n"
      ]
    },
    {
      "cell_type": "code",
      "metadata": {
        "id": "yMQftXmJEnxX",
        "colab": {
          "base_uri": "https://localhost:8080/"
        },
        "outputId": "efa340c2-1d10-4f39-8bd3-6bc22f63680f"
      },
      "source": [
        "# exercício 04 - <escrever o código neste bloco>\n",
        "\n",
        "z = ['o', 'rato', 'roeu', 'a', 'roupa', 'do', 'rei', 'de', 'roma']\n",
        "print(z)"
      ],
      "execution_count": 5,
      "outputs": [
        {
          "output_type": "stream",
          "name": "stdout",
          "text": [
            "['o', 'rato', 'roeu', 'a', 'roupa', 'do', 'rei', 'de', 'roma']\n"
          ]
        }
      ]
    },
    {
      "cell_type": "markdown",
      "metadata": {
        "id": "9_IT_G5CEnxb"
      },
      "source": [
        "**05) Crie variáveis string com o conteúdo \"Cinco elefantes \", \"incomodam \", \"muito mais!\" e a partir das três variáveis, imprima a frase abaixo:**\n",
        "\n",
        "`\"Cinco elefantes incomodam incomodam incomodam incomodam incomodam muito mais!\"`"
      ]
    },
    {
      "cell_type": "code",
      "metadata": {
        "id": "nFcx9sJ3Enxd",
        "colab": {
          "base_uri": "https://localhost:8080/"
        },
        "outputId": "fd29e271-af4c-4f13-b690-d604dcc99100"
      },
      "source": [
        "# exercício 05 - <escrever o código neste bloco>\n",
        "\n",
        "x,y,z = \"Cinco elefantes \", \"incomodam \", \"muito mais!\"\n",
        "\n",
        "print(x + (y*5) + z)"
      ],
      "execution_count": 7,
      "outputs": [
        {
          "output_type": "stream",
          "name": "stdout",
          "text": [
            "Cinco elefantes incomodam incomodam incomodam incomodam incomodam muito mais!\n"
          ]
        }
      ]
    },
    {
      "cell_type": "markdown",
      "metadata": {
        "id": "g05LC4ILEnxg"
      },
      "source": [
        "**06) Formatar o número \"1100.12345\" da seguinte forma:***\n",
        "\n",
        "`R$ 1100,12 reais`"
      ]
    },
    {
      "cell_type": "code",
      "metadata": {
        "id": "Mxk4cgrwEnxh",
        "colab": {
          "base_uri": "https://localhost:8080/"
        },
        "outputId": "91c1d74d-206c-4ff8-c83b-04734d4b59ce"
      },
      "source": [
        "# exercício 06 - <escrever o código neste bloco>\n",
        "\n",
        "x = 1100.12345\n",
        "print(f\"R$ {x:.2f} reais\".replace('.',','))"
      ],
      "execution_count": 14,
      "outputs": [
        {
          "output_type": "stream",
          "name": "stdout",
          "text": [
            "R$ 1100,12 reais\n"
          ]
        }
      ]
    },
    {
      "cell_type": "markdown",
      "metadata": {
        "id": "z97SDwxIEnxl"
      },
      "source": [
        "**07) Considere a string \"Felicidade!\". Exiba o primeiro caracter e os dois últimos caracteres, conforme abaixo:**\n",
        "\n",
        "`F`\n",
        "\n",
        "`e!`\n"
      ]
    },
    {
      "cell_type": "code",
      "metadata": {
        "id": "yScgJqSaEnxm",
        "colab": {
          "base_uri": "https://localhost:8080/"
        },
        "outputId": "7af6bbfe-0149-4dcc-bacf-7b01bd43e58c"
      },
      "source": [
        "# exercício 07 - <escrever o código neste bloco>\n",
        "\n",
        "x = \"Felicidade!\"\n",
        "print(x[0])\n",
        "print(x[-2:])"
      ],
      "execution_count": 15,
      "outputs": [
        {
          "output_type": "stream",
          "name": "stdout",
          "text": [
            "F\n",
            "e!\n"
          ]
        }
      ]
    },
    {
      "cell_type": "markdown",
      "metadata": {
        "id": "y49lKVAxEnxp"
      },
      "source": [
        "**08) Considere a string \"Banana\". Exiba os caracteres de dois em dois, conforme abaixo:**\n",
        "\n",
        "`Bnn`\n",
        "\n",
        "e depois\n",
        "\n",
        "`aaa`"
      ]
    },
    {
      "cell_type": "code",
      "metadata": {
        "id": "FgtIuPXxEnxr",
        "colab": {
          "base_uri": "https://localhost:8080/"
        },
        "outputId": "150f67dd-261d-4c14-aa89-46b2eeabe850"
      },
      "source": [
        "# exercício 08 - <escrever o código neste bloco>\n",
        "\n",
        "x = \"Banana\"\n",
        "print(x[0::2])\n",
        "print(x[1::2])"
      ],
      "execution_count": 18,
      "outputs": [
        {
          "output_type": "stream",
          "name": "stdout",
          "text": [
            "Bnn\n",
            "aaa\n"
          ]
        }
      ]
    }
  ]
}