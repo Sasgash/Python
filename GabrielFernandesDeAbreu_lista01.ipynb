{
  "nbformat": 4,
  "nbformat_minor": 0,
  "metadata": {
    "kernelspec": {
      "display_name": "Python 3",
      "language": "python",
      "name": "python3"
    },
    "language_info": {
      "codemirror_mode": {
        "name": "ipython",
        "version": 3
      },
      "file_extension": ".py",
      "mimetype": "text/x-python",
      "name": "python",
      "nbconvert_exporter": "python",
      "pygments_lexer": "ipython3",
      "version": "3.7.4"
    },
    "colab": {
      "provenance": []
    }
  },
  "cells": [
    {
      "cell_type": "markdown",
      "metadata": {
        "id": "Ve2cOW3-EnxE"
      },
      "source": [
        "# <font color='blue'>FUMEC - Analytics com Python</font>\n",
        "## **Lista de exercícios 01 - Introdução**\n",
        "\n",
        "<br>**ATENÇÃO:** para salvar o arquivo .ipynb do notebook, faça da seguinte forma:\n",
        "\n",
        "* **Google Colaboratory**: opção do menu \"Arquivo --> Baixar o .ipynb\"\n",
        "\n",
        "* Salve o arquivo com o nome \"**SeuNome_lista01.ipynb**\"\n",
        "\n",
        "<br>\n",
        "\n"
      ]
    },
    {
      "cell_type": "markdown",
      "metadata": {
        "id": "BLPhekz2EnxH"
      },
      "source": [
        "**01) Somar 10 e 4**"
      ]
    },
    {
      "cell_type": "code",
      "metadata": {
        "id": "tYY90cggwl0y",
        "colab": {
          "base_uri": "https://localhost:8080/"
        },
        "outputId": "0751a30f-be67-4a9d-d995-f31f97e03c20"
      },
      "source": [
        "10+4"
      ],
      "execution_count": 2,
      "outputs": [
        {
          "output_type": "execute_result",
          "data": {
            "text/plain": [
              "14"
            ]
          },
          "metadata": {},
          "execution_count": 2
        }
      ]
    },
    {
      "cell_type": "markdown",
      "metadata": {
        "id": "U38TabXfwwMG"
      },
      "source": [
        "**02) Subtrair 4 de 10**"
      ]
    },
    {
      "cell_type": "code",
      "metadata": {
        "id": "-SeZI9Oow3H5",
        "colab": {
          "base_uri": "https://localhost:8080/"
        },
        "outputId": "2569670c-353f-4b1d-b3d8-f1d91d62cc00"
      },
      "source": [
        "10-4"
      ],
      "execution_count": 3,
      "outputs": [
        {
          "output_type": "execute_result",
          "data": {
            "text/plain": [
              "6"
            ]
          },
          "metadata": {},
          "execution_count": 3
        }
      ]
    },
    {
      "cell_type": "markdown",
      "metadata": {
        "id": "0BdJq2tyw6Bg"
      },
      "source": [
        "**03) Multiplicar 10 e 4**"
      ]
    },
    {
      "cell_type": "code",
      "metadata": {
        "id": "MZQigCQCw8N7",
        "colab": {
          "base_uri": "https://localhost:8080/"
        },
        "outputId": "f38c2cae-f3cd-4250-fb6e-7ec8eeb84b97"
      },
      "source": [
        "10*4"
      ],
      "execution_count": 4,
      "outputs": [
        {
          "output_type": "execute_result",
          "data": {
            "text/plain": [
              "40"
            ]
          },
          "metadata": {},
          "execution_count": 4
        }
      ]
    },
    {
      "cell_type": "markdown",
      "metadata": {
        "id": "P1mDz_Haw8vi"
      },
      "source": [
        "**04) Efetuar 10 elevado a 4**"
      ]
    },
    {
      "cell_type": "code",
      "metadata": {
        "id": "tuAVPI-HxMEC",
        "colab": {
          "base_uri": "https://localhost:8080/"
        },
        "outputId": "2266bda7-9d0d-4132-d622-23bc39f7102a"
      },
      "source": [
        "10**4"
      ],
      "execution_count": 8,
      "outputs": [
        {
          "output_type": "execute_result",
          "data": {
            "text/plain": [
              "10000"
            ]
          },
          "metadata": {},
          "execution_count": 8
        }
      ]
    },
    {
      "cell_type": "markdown",
      "metadata": {
        "id": "luW22OKYxEL3"
      },
      "source": [
        "**05) Efetuar a divisão de 10 por 4**"
      ]
    },
    {
      "cell_type": "code",
      "metadata": {
        "id": "xxIaA7-oxOoT",
        "colab": {
          "base_uri": "https://localhost:8080/"
        },
        "outputId": "35a132f8-a9d9-4b5b-fb94-b6f1a8267e1e"
      },
      "source": [
        "10/4"
      ],
      "execution_count": 14,
      "outputs": [
        {
          "output_type": "execute_result",
          "data": {
            "text/plain": [
              "2.5"
            ]
          },
          "metadata": {},
          "execution_count": 14
        }
      ]
    },
    {
      "cell_type": "markdown",
      "metadata": {
        "id": "JRxC-rLoxNOS"
      },
      "source": [
        "**06) Efetuar o resto da divisão de 10 por 4**"
      ]
    },
    {
      "cell_type": "code",
      "metadata": {
        "id": "-yX49qJvxM_K",
        "colab": {
          "base_uri": "https://localhost:8080/"
        },
        "outputId": "4426a300-f447-4393-8a26-5b967c830751"
      },
      "source": [
        "10%4"
      ],
      "execution_count": 9,
      "outputs": [
        {
          "output_type": "execute_result",
          "data": {
            "text/plain": [
              "2"
            ]
          },
          "metadata": {},
          "execution_count": 9
        }
      ]
    },
    {
      "cell_type": "markdown",
      "metadata": {
        "id": "yv0oJ7w_xUaV"
      },
      "source": [
        "**07) Efetuar a divisão inteira de 10 por 4**"
      ]
    },
    {
      "cell_type": "code",
      "metadata": {
        "id": "xSa_QSJCxfFc",
        "colab": {
          "base_uri": "https://localhost:8080/"
        },
        "outputId": "02535dcf-f773-4463-de9a-8c56aa899791"
      },
      "source": [
        "10//4"
      ],
      "execution_count": 10,
      "outputs": [
        {
          "output_type": "execute_result",
          "data": {
            "text/plain": [
              "2"
            ]
          },
          "metadata": {},
          "execution_count": 10
        }
      ]
    },
    {
      "cell_type": "markdown",
      "metadata": {
        "id": "TzbzmsMuxfpj"
      },
      "source": [
        "**08) Avaliar a expressão** `5 > 3 and 6 > 3`"
      ]
    },
    {
      "cell_type": "code",
      "metadata": {
        "id": "TcGHzpONxoro",
        "colab": {
          "base_uri": "https://localhost:8080/"
        },
        "outputId": "8dec9a31-6fa7-42a3-a2d6-7ca1c204eaed"
      },
      "source": [
        "5 > 3 and 6 > 3"
      ],
      "execution_count": 11,
      "outputs": [
        {
          "output_type": "execute_result",
          "data": {
            "text/plain": [
              "True"
            ]
          },
          "metadata": {},
          "execution_count": 11
        }
      ]
    },
    {
      "cell_type": "markdown",
      "metadata": {
        "id": "K8cygry6xpLA"
      },
      "source": [
        "**09) Avaliar a expressão** `5 > 3 or 5 < 3`"
      ]
    },
    {
      "cell_type": "code",
      "metadata": {
        "id": "T9w5Rix-xy1n",
        "colab": {
          "base_uri": "https://localhost:8080/"
        },
        "outputId": "6618afe0-3237-45c5-9a8b-0a96597dc494"
      },
      "source": [
        "5 > 3 or 5 < 3"
      ],
      "execution_count": 12,
      "outputs": [
        {
          "output_type": "execute_result",
          "data": {
            "text/plain": [
              "True"
            ]
          },
          "metadata": {},
          "execution_count": 12
        }
      ]
    },
    {
      "cell_type": "markdown",
      "metadata": {
        "id": "A5a_mXYOxzSE"
      },
      "source": [
        "**10) Avaliar a expressão** `1==2 or 1==1 and not 1==2`"
      ]
    },
    {
      "cell_type": "code",
      "metadata": {
        "id": "4cg9DMMdx8Ww",
        "colab": {
          "base_uri": "https://localhost:8080/"
        },
        "outputId": "cc3c2c31-9851-43db-c06d-6276cc787c1b"
      },
      "source": [
        "1==2 or 1==1 and not 1==2"
      ],
      "execution_count": 13,
      "outputs": [
        {
          "output_type": "execute_result",
          "data": {
            "text/plain": [
              "True"
            ]
          },
          "metadata": {},
          "execution_count": 13
        }
      ]
    }
  ]
}