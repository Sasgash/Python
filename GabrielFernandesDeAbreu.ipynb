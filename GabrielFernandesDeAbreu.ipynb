{
  "nbformat": 4,
  "nbformat_minor": 0,
  "metadata": {
    "kernelspec": {
      "display_name": "Python 3",
      "language": "python",
      "name": "python3"
    },
    "language_info": {
      "codemirror_mode": {
        "name": "ipython",
        "version": 3
      },
      "file_extension": ".py",
      "mimetype": "text/x-python",
      "name": "python",
      "nbconvert_exporter": "python",
      "pygments_lexer": "ipython3",
      "version": "3.7.4"
    },
    "colab": {
      "provenance": []
    }
  },
  "cells": [
    {
      "cell_type": "markdown",
      "metadata": {
        "id": "Ve2cOW3-EnxE"
      },
      "source": [
        "# <font color='blue'>FUMEC - Analytics com Python</font>\n",
        "## **Lista de exercícios 03 - Listas e Tuplas**\n",
        "\n",
        "<br>**ATENÇÃO:** para salvar o arquivo .ipynb do notebook, faça da seguinte forma:\n",
        "\n",
        "* **Google Colaboratory**: opção do menu \"Arquivo --> Fazer donwnload --> Baixar o .ipynb\"\n",
        "\n",
        "* Salve o arquivo com o nome \"**SeuNome_lista03.ipynb**\"\n",
        "\n",
        "<br>\n",
        "\n"
      ]
    },
    {
      "cell_type": "markdown",
      "metadata": {
        "id": "BLPhekz2EnxH"
      },
      "source": [
        "### **01) De acordo com os itens abaixo, execute as seguintes tarefas**:\n",
        "```\n",
        "\"cachorro\"\n",
        "[1, 2, 3]\n",
        "3.5\n",
        "False\n",
        "```\n",
        "\n",
        "\n",
        "1.   Crie uma lista com estes itens acima\n",
        "2.   Percorra a lista e imprima cada item\n",
        "3.   Substitua o último elemento da lista pela string 'último'\n",
        "4.   Remova o elemento de índice 0\n",
        "5.   Imprima a lista\n",
        "\n",
        "**Saída esperada**:\n",
        "```\n",
        "cachorro\n",
        "[1, 2, 3]\n",
        "3.5\n",
        "False\n",
        "[[1, 2, 3], 3.5, 'último']\n",
        "```\n",
        "\n"
      ]
    },
    {
      "cell_type": "code",
      "metadata": {
        "id": "Sle_b3vhEnxJ",
        "colab": {
          "base_uri": "https://localhost:8080/"
        },
        "outputId": "4144fc9d-4fdc-47d5-9372-fbd0642ff49e"
      },
      "source": [
        "# exercício 01 - <escrever o código neste bloco>\n",
        "\n",
        "lista = [\"cachorro\", [1, 2, 3], 3.5, False]\n",
        "\n",
        "\n",
        "for item in lista:\n",
        "    print(item)\n",
        "\n",
        "\n",
        "lista[-1] = 'último'\n",
        "\n",
        "\n",
        "del lista[0]\n",
        "\n",
        "\n",
        "print(lista)"
      ],
      "execution_count": 1,
      "outputs": [
        {
          "output_type": "stream",
          "name": "stdout",
          "text": [
            "cachorro\n",
            "[1, 2, 3]\n",
            "3.5\n",
            "False\n",
            "[[1, 2, 3], 3.5, 'último']\n"
          ]
        }
      ]
    },
    {
      "cell_type": "markdown",
      "metadata": {
        "id": "BtMjSfBLc1tL"
      },
      "source": [
        "### **02) Execute as seguintes tarefas**:\n",
        "\n",
        "1.   Crie uma lista, representando uma matriz 3x3, com todos os elementos iguais a 0, usando o operador de repetição * para gerar todos os itens\n",
        "2.   Imprima a lista criada\n",
        "\n",
        "**Saída esperada**:\n",
        "```\n",
        "[[0, 0, 0], [0, 0, 0], [0, 0, 0]]\n",
        "```\n",
        "\n"
      ]
    },
    {
      "cell_type": "code",
      "metadata": {
        "id": "L0PuBYqxEnxO",
        "colab": {
          "base_uri": "https://localhost:8080/"
        },
        "outputId": "8b769f33-eb8b-4af3-8002-4f31a845b0a5"
      },
      "source": [
        "# exercício 02 - <escrever o código neste bloco>\n",
        "list = [[0,0,0]]*3\n",
        "list"
      ],
      "execution_count": 2,
      "outputs": [
        {
          "output_type": "execute_result",
          "data": {
            "text/plain": [
              "[[0, 0, 0], [0, 0, 0], [0, 0, 0]]"
            ]
          },
          "metadata": {},
          "execution_count": 2
        }
      ]
    },
    {
      "cell_type": "markdown",
      "metadata": {
        "id": "pAnX6n5enDk7"
      },
      "source": [
        "### **03) Execute as seguintes tarefas**:\n",
        "\n",
        "1.   Crie uma lista, representando uma matriz 3x3, com o conteúdo ```[[1, 2, 3], [4, 5, 6], [7, 8, 9]]```\n",
        "\n",
        "\n",
        "\n",
        "```\n",
        "    0  1  2\n",
        "0 [ 1, 2, 3]\n",
        "1 [ 4, 5, 7]\n",
        "2 [ 8, 9, 10]\n",
        "```\n",
        "\n",
        "2.   Imprima a lista criada\n",
        "3.   Percorra a lista para substituir os elementos onde **i = j** (índice da linha é igual ao índice da coluna) pelo número 1, e os demais elementos da matriz devem ser substituídos pelo número 0\n",
        "4.   Imprima a lista\n",
        "\n",
        "Dica: usar a função `enumerate()` para percorrer a lista\n",
        "\n",
        "\n",
        "**Saída esperada**:\n",
        "```\n",
        "[[1, 2, 3], [4, 5, 6], [7, 8, 9]]\n",
        "[[1, 0, 0], [0, 1, 0], [0, 0, 1]]\n",
        "```\n",
        "\n"
      ]
    },
    {
      "cell_type": "markdown",
      "metadata": {
        "id": "eoFjhZIwojtq"
      },
      "source": [
        "### **04) Execute as seguintes tarefas**:\n",
        "\n",
        "1.   Considerando duas listas\n",
        "```\n",
        "l1 = ['1','2','3']\n",
        "l2 = ['a','b','c']\n",
        "```\n",
        "2.   Concatene em formato string cada elemento da primeira lista com cada elemento da segunda lista para produzir uma nova lista\n",
        "3.   Faça uma versão usando o comando ***for*** de forma tradicional\n",
        "4.   Faça outra versão usando *compreensão de listas*\n",
        "\n",
        "**Saída esperada**:\n",
        "```\n",
        "['1a', '1b', '1c', '2a', '2b', '2c', '3a', '3b', '3c']\n",
        "['1a', '1b', '1c', '2a', '2b', '2c', '3a', '3b', '3c']\n",
        "```\n",
        "\n"
      ]
    },
    {
      "cell_type": "code",
      "metadata": {
        "id": "4AkXkGVhoxkV",
        "colab": {
          "base_uri": "https://localhost:8080/"
        },
        "outputId": "0eed0257-e505-401a-b417-78fbb7e10481"
      },
      "source": [
        "# exercício 03 - <escrever o código neste bloco>\n",
        "lista = [[1, 2, 3], [4, 5, 6], [7, 8, 9]]\n",
        "\n",
        "print(lista)\n",
        "for i, linha in enumerate(lista):\n",
        "  for j, valor in enumerate(lista):\n",
        "\n",
        "    if i==j:\n",
        "      lista[i][j] = 1\n",
        "\n",
        "    else  :\n",
        "      lista[i][j] = 0\n",
        "\n",
        "lista\n",
        "\n",
        "# exercício 04 - <escrever o código neste bloco>\n",
        "l1 = ['1', '2', '3']\n",
        "l2 = ['a', 'b', 'c']\n",
        "\n",
        "nova_lista = []\n",
        "for item1 in l1:\n",
        "    for item2 in l2:\n",
        "        nova_lista.append(item1 + item2)\n",
        "\n",
        "print(nova_lista)\n",
        "\n",
        "\n",
        "lista2 = [item1 + item2 for item1 in l1 for item2 in l2]\n",
        "\n",
        "print(lista2)\n",
        "\n"
      ],
      "execution_count": 27,
      "outputs": [
        {
          "output_type": "stream",
          "name": "stdout",
          "text": [
            "[[1, 2, 3], [4, 5, 6], [7, 8, 9]]\n",
            "['1a', '1b', '1c', '2a', '2b', '2c', '3a', '3b', '3c']\n",
            "['1a', '1b', '1c', '2a', '2b', '2c', '3a', '3b', '3c']\n"
          ]
        }
      ]
    },
    {
      "cell_type": "markdown",
      "metadata": {
        "id": "JuYYZG2_rZO7"
      },
      "source": [
        "### **05) De acordo com os itens abaixo, execute as seguintes tarefas**:\n",
        "```\n",
        "'banana'\n",
        "'laranja'\n",
        "'limão'\n",
        "'caju'\n",
        "```\n",
        "\n",
        "\n",
        "1.   Crie uma lista com estes itens acima\n",
        "2.   Inclua um novo item 'abacaxi' ao final da lista\n",
        "3.   Remova o elemento 'banana'\n",
        "4.   Retire o último elemento da lista\n",
        "5.   Ordene a lista em ordem decrescente\n",
        "6.   Imprima a lista\n",
        "\n",
        "**Saída esperada**:\n",
        "```\n",
        "['limão', 'laranja', 'caju']\n",
        "```\n",
        "\n"
      ]
    },
    {
      "cell_type": "code",
      "metadata": {
        "id": "UL6NclH5r3GO",
        "colab": {
          "base_uri": "https://localhost:8080/"
        },
        "outputId": "c000c711-4e8c-4376-f81e-3876d515680c"
      },
      "source": [
        "# exercício 05 - <escrever o código neste bloco>\n",
        "\n",
        "Lista = ['banana', 'laranja', 'limão', 'caju']\n",
        "\n",
        "Lista.append('abacaxi')\n",
        "\n",
        "Lista.remove('banana')\n",
        "\n",
        "del Lista[3]\n",
        "\n",
        "Lista.sort(reverse=True)\n",
        "\n",
        "Lista\n"
      ],
      "execution_count": 4,
      "outputs": [
        {
          "output_type": "execute_result",
          "data": {
            "text/plain": [
              "['limão', 'laranja', 'caju']"
            ]
          },
          "metadata": {},
          "execution_count": 4
        }
      ]
    },
    {
      "cell_type": "markdown",
      "metadata": {
        "id": "cdWM9aGjsyk3"
      },
      "source": [
        "### **06) Execute as seguintes tarefas**:\n",
        "\n",
        "1.   Crie uma fila vazia (usar uma lista padrão)\n",
        "2.   Use um loop com o comando ***for*** para incluir na fila com os itens ```'Item 1', 'Item 2', 'Item 3' e 'Item 4'```\n",
        "3.   Imprima a fila\n",
        "4.   Use um loop com o comando ***for*** para ir retirando os elementos da fila e imprimir o elemento retirado e o elemetnos restantes\n",
        "5.   Imprima a fila vazia\n",
        "\n",
        "**Saída esperada**:\n",
        "```\n",
        "['Item 1', 'Item 2', 'Item 3', 'Item 4']\n",
        "Retirei Item 1 e faltam 3 elementos na fila\n",
        "Retirei Item 2 e faltam 2 elementos na fila\n",
        "Retirei Item 3 e faltam 1 elementos na fila\n",
        "Retirei Item 4 e faltam 0 elementos na fila\n",
        "[]\n",
        "```"
      ]
    },
    {
      "cell_type": "code",
      "metadata": {
        "id": "uQF5BUvLu79Z",
        "colab": {
          "base_uri": "https://localhost:8080/"
        },
        "outputId": "7cd301c4-5771-428c-a9d1-c1064e65163b"
      },
      "source": [
        "# exercício 06 - <escrever o código neste bloco>\n",
        "\n",
        "fila = []\n",
        "\n",
        "for i in range(1, 5):\n",
        "    fila.append(f'Item {i}')\n",
        "\n",
        "\n",
        "print(\"Fila inicial:\")\n",
        "print(fila)\n",
        "\n",
        "\n",
        "print(\"\\nRetirando elementos da fila:\")\n",
        "for _ in range(len(fila)):\n",
        "    elemento_ret = fila.pop(0)\n",
        "    print(f'Elemento retirado: {elemento_ret}')\n",
        "    print(f'Fila restante: {fila}')\n",
        "\n",
        "print(\"\\nFila final (vazia):\")\n",
        "print(fila)"
      ],
      "execution_count": 5,
      "outputs": [
        {
          "output_type": "stream",
          "name": "stdout",
          "text": [
            "Fila inicial:\n",
            "['Item 1', 'Item 2', 'Item 3', 'Item 4']\n",
            "\n",
            "Retirando elementos da fila:\n",
            "Elemento retirado: Item 1\n",
            "Fila restante: ['Item 2', 'Item 3', 'Item 4']\n",
            "Elemento retirado: Item 2\n",
            "Fila restante: ['Item 3', 'Item 4']\n",
            "Elemento retirado: Item 3\n",
            "Fila restante: ['Item 4']\n",
            "Elemento retirado: Item 4\n",
            "Fila restante: []\n",
            "\n",
            "Fila final (vazia):\n",
            "[]\n"
          ]
        }
      ]
    },
    {
      "cell_type": "markdown",
      "metadata": {
        "id": "I_l5x7texMRv"
      },
      "source": [
        "### **07) Considere as duas strings abaixo e execute as seguintes tarefas**:\n",
        "```\n",
        "naipes = 'copas ouros espadas paus'\n",
        "cartas = 'A 2 3 4 5 6 7 8 9 10 J Q K'\n",
        "```\n",
        "1.   Crie duas listas a partir das strings acima\n",
        "2.   Imprima cada uma das listas criadas\n",
        "3.   Crie uma nova lista chamada '**baralho**' contendo 4 elementos. Cada elemento será uma lista com as cartas de cada naipe\n",
        "4.   Imprima a lista criada\n",
        "\n",
        "**Saída esperada**:\n",
        "```\n",
        "['copas', 'ouros', 'espadas', 'paus']\n",
        "['A', '2', '3', '4', '5', '6', '7', '8', '9', '10', 'J', 'Q', 'K']\n",
        "[['A copas', '2 copas', '3 copas', '4 copas', '5 copas', '6 copas', '7 copas', '8 copas', '9 copas', '10 copas', 'J copas', 'Q copas', 'K copas'],\n",
        "['A ouros', '2 ouros', '3 ouros', '4 ouros', '5 ouros', '6 ouros', '7 ouros', '8 ouros', '9 ouros', '10 ouros', 'J ouros', 'Q ouros', 'K ouros'],\n",
        "['A espadas', '2 espadas', '3 espadas', '4 espadas', '5 espadas', '6 espadas', '7 espadas', '8 espadas', '9 espadas', '10 espadas', 'J espadas', 'Q espadas', 'K espadas'],\n",
        "['A paus', '2 paus', '3 paus', '4 paus', '5 paus', '6 paus', '7 paus', '8 paus', '9 paus', '10 paus', 'J paus', 'Q paus', 'K paus']]\n",
        "```"
      ]
    },
    {
      "cell_type": "code",
      "metadata": {
        "id": "NTvtJbFtyG0q",
        "colab": {
          "base_uri": "https://localhost:8080/"
        },
        "outputId": "3af6a5e8-c26b-40fe-a0ec-d1d6ffea4249"
      },
      "source": [
        "# exercício 07 - <escrever o código neste bloco>\n",
        "\n",
        "naipes = 'copas ouros espadas paus'\n",
        "cartas = 'A 2 3 4 5 6 7 8 9 10 J Q K'\n",
        "\n",
        "\n",
        "lista_naipes = naipes.split()\n",
        "lista_cartas = cartas.split()\n",
        "\n",
        "print(\"Lista de naipes:\")\n",
        "print(lista_naipes)\n",
        "\n",
        "print(\"\\nLista de cartas:\")\n",
        "print(lista_cartas)\n",
        "\n",
        "baralho = [lista_cartas[:] for _ in lista_naipes]\n",
        "\n",
        "print(\"\\nBaralho:\")\n",
        "print(baralho)"
      ],
      "execution_count": 6,
      "outputs": [
        {
          "output_type": "stream",
          "name": "stdout",
          "text": [
            "Lista de naipes:\n",
            "['copas', 'ouros', 'espadas', 'paus']\n",
            "\n",
            "Lista de cartas:\n",
            "['A', '2', '3', '4', '5', '6', '7', '8', '9', '10', 'J', 'Q', 'K']\n",
            "\n",
            "Baralho:\n",
            "[['A', '2', '3', '4', '5', '6', '7', '8', '9', '10', 'J', 'Q', 'K'], ['A', '2', '3', '4', '5', '6', '7', '8', '9', '10', 'J', 'Q', 'K'], ['A', '2', '3', '4', '5', '6', '7', '8', '9', '10', 'J', 'Q', 'K'], ['A', '2', '3', '4', '5', '6', '7', '8', '9', '10', 'J', 'Q', 'K']]\n"
          ]
        }
      ]
    },
    {
      "cell_type": "markdown",
      "metadata": {
        "id": "y9-cpOeuEIQK"
      },
      "source": [
        "### **08) Execute as seguintes tarefas (pense fora da caixa!)**:\n",
        "\n",
        "1.   Considere a tupla abaixo:\n",
        "```\n",
        "tupla = ( 'x', 'y', 'z')\n",
        "```\n",
        "2.   Substitua o segundo elemento da tupla por 'aaa'\n",
        "\n",
        "**Saída esperada**:\n",
        "```\n",
        "('x', 'aaa', 'z')\n",
        "```\n",
        "\n"
      ]
    },
    {
      "cell_type": "code",
      "metadata": {
        "id": "s2PZ09P0EIQN",
        "colab": {
          "base_uri": "https://localhost:8080/"
        },
        "outputId": "a2958362-8907-446d-90c1-2ce5ae8a98f2"
      },
      "source": [
        "# exercício 08 - <escrever o código neste bloco>\n",
        "\n",
        "tupla = ('x', 'y', 'z')\n",
        "\n",
        "tupla_modificada = (tupla[0], 'aaa', tupla[2])\n",
        "\n",
        "print(tupla_modificada)"
      ],
      "execution_count": 7,
      "outputs": [
        {
          "output_type": "stream",
          "name": "stdout",
          "text": [
            "('x', 'aaa', 'z')\n"
          ]
        }
      ]
    }
  ]
}