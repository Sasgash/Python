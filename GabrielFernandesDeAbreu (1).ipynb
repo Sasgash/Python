{
  "cells": [
    {
      "cell_type": "markdown",
      "metadata": {
        "id": "Ve2cOW3-EnxE"
      },
      "source": [
        "# <font color='blue'>FUMEC - Analytics com Python</font>\n",
        "## **Lista de exercícios 04 - Conjuntos e Dicionários**\n",
        "\n",
        "<br>**ATENÇÃO:** para salvar o arquivo .ipynb do notebook, faça da seguinte forma:\n",
        "\n",
        "* **Google Colaboratory**: opção do menu \"Arquivo --> Fazer download --> Baixar o .ipynb\"\n",
        "\n",
        "\n",
        "* Salve o arquivo com o nome \"**SeuNome_lista04.ipynb**\"\n",
        "\n",
        "<br>\n",
        "\n"
      ]
    },
    {
      "cell_type": "markdown",
      "metadata": {
        "id": "JuYYZG2_rZO7"
      },
      "source": [
        "### **01) Execute as seguintes tarefas**:\n",
        "\n",
        "1.   Dadas as listas abaixo:\n",
        "```\n",
        "alunos_computacao = [ (1,'ze', 'MG'), (2,'joao', 'MG'), (3,'maria', 'SP') ]\n",
        "alunos_direito = [ (1,'lucas', 'MG'), (2,'pedro', 'RJ'), (3,'clara', 'BA') ]\n",
        "```\n",
        "2.   Imprima todas as UFs onde existem alunos\n",
        "3.   Imprima as UFs onde existem alunos de computação e direito ao mesmo tempo\n",
        "4.   Imprima as UFs onde existem alunos de computação, mas não de direito\n",
        "5.   Imprima as UFs onde existem alunos de direito, mas não de computação\n",
        "\n",
        "**Saída esperada**:\n",
        "```\n",
        "{'RJ', 'BA', 'MG', 'SP'}\n",
        "{'MG'}\n",
        "{'SP'}\n",
        "{'RJ', 'BA'}\n",
        "```\n",
        "\n"
      ]
    },
    {
      "cell_type": "code",
      "execution_count": null,
      "metadata": {
        "colab": {
          "base_uri": "https://localhost:8080/"
        },
        "id": "UL6NclH5r3GO",
        "outputId": "a6d828f7-ac80-4280-d954-5ba1276b7280"
      },
      "outputs": [
        {
          "name": "stdout",
          "output_type": "stream",
          "text": [
            "{'BA', 'RJ', 'SP', 'MG'}\n",
            "{'MG'}\n",
            "{'SP'}\n",
            "{'RJ', 'BA'}\n"
          ]
        }
      ],
      "source": [
        "# exercício 01 - <escrever o código neste bloco>\n",
        "\n",
        "alunosComp = [ (1,'ze', 'MG'), (2,'joao', 'MG'), (3,'maria', 'SP') ]\n",
        "alunosDireito = [ (1,'lucas', 'MG'), (2,'pedro', 'RJ'), (3,'clara', 'BA') ]\n",
        "\n",
        "estadosComp = {estudantes[2] for estudantes in alunosComp}\n",
        "estadosDireito = {estudantes[2] for estudantes in alunosDireito}\n",
        "\n",
        "print(estadosComp.union(estadosDireito))\n",
        "print(estadosComp.intersection(estadosDireito))\n",
        "print(estadosComp.difference(estadosDireito))\n",
        "print(estadosDireito.difference(estadosComp))\n"
      ]
    },
    {
      "cell_type": "markdown",
      "metadata": {
        "id": "BtMjSfBLc1tL"
      },
      "source": [
        "### **02) Execute as seguintes tarefas**:\n",
        "\n",
        "1.   Crie um dicionário vazio para armazenar o preço dos produtos encontrados na feira\n",
        "2.   Insira os produtos abaixo no dicionário (produto, preço)\n",
        "```\n",
        "banana, 6.50\n",
        "maçã, 8.0\n",
        "uva 12.0\n",
        "```\n",
        "3.   Imprima cada produto e o seu preço\n",
        "4.   Aumente o preço de cada produto em 10% (mantenha o valor anterior usando um único dicionário!)\n",
        "5.   Imprima novamente cada produto, o preço anterior e o preço alterado\n",
        "\n",
        "**Saída esperada**:\n",
        "```\n",
        "banana: 6.50\n",
        "maçã: 8.00\n",
        "uva: 12.00\n",
        "\n",
        "banana: preço anterior 6.50 preço atual 7.15\n",
        "maçã: preço anterior 8.00 preço atual 8.80\n",
        "uva: preço anterior 12.00 preço atual 13.20\n",
        "```\n",
        "\n"
      ]
    },
    {
      "cell_type": "code",
      "execution_count": 12,
      "metadata": {
        "colab": {
          "base_uri": "https://localhost:8080/"
        },
        "id": "L0PuBYqxEnxO",
        "outputId": "02dffa88-b565-4a0c-8ec8-d2d2039b41c4"
      },
      "outputs": [
        {
          "name": "stdout",
          "output_type": "stream",
          "text": [
            "banana : 6.5\n",
            "maçã : 8.0\n",
            "uva : 12.0\n",
            "banana: preço anterior 6.44 preço atual 7.15\n",
            "maçã: preço anterior 7.92 preço atual 8.80\n",
            "uva: preço anterior 11.88 preço atual 13.20\n"
          ]
        }
      ],
      "source": [
        "# exercício 02 - <escrever o código neste bloco>\n",
        "\n",
        "produtos_feira = [(1,\"banana\", 6.50), (2, \"maçã\", 8.0), (3, \"uva\", 12.0)]\n",
        "\n",
        "for produto in produtos_feira:\n",
        "  print(produto[1], \":\", produto[2])\n",
        "\n",
        "for produto in produtos_feira:\n",
        "  produto = list(produto)\n",
        "  produto[2] = produto[2] * 1.1\n",
        "  produto = tuple(produto)\n",
        "\n",
        "  print(f'{produto[1]}: preço anterior {produto[2] - (produto[2] * 0.1):.2f} preço atual {produto[2]:.2f}')"
      ]
    },
    {
      "cell_type": "markdown",
      "metadata": {
        "id": "BLPhekz2EnxH"
      },
      "source": [
        "### **03) Execute as seguintes tarefas**:\n",
        "\n",
        "1.   Crie um dicionário para armazenar a sua agenda de contatos\n",
        "2.   Cada contato poderá ter gravados telefones dos tipos ***celular***, ***comercial*** ou ***residencial***\n",
        "3.   Deve ser possível consultar todos os telefones de um contato, bem como consultar um telefone específico de um contato\n",
        "*   Imprimir o telefone comercial do joao\n",
        "*   Imprimir o telefone celular da maria\n",
        "*   Imprimir todos os telefones do ze\n",
        "\n",
        "4.   O seu código deve exibir a saída abaixo\n",
        "\n",
        "**Saída esperada**:\n",
        "```\n",
        "joao: (31)1111-1111\n",
        "maria: (31)9999-9992\n",
        "ze: ['(31)9999-9993', '(31)2222-1111']\n",
        "\n",
        "Nome:   joao\n",
        "        Telefone celular:\t    (31)9999-9991\n",
        "\t    Telefone comercial:      (31)1111-1111\n",
        "\n",
        "Nome:   maria\n",
        "\t    Telefone celular:        (31)9999-9992\n",
        "\n",
        "Nome:   ze\n",
        "\t    Telefone celular:\t    (31)9999-9993\n",
        "\t    Telefone residencial:\t(31)2222-1111\n",
        "\n",
        "```\n",
        "\n"
      ]
    },
    {
      "cell_type": "code",
      "execution_count": 25,
      "metadata": {
        "colab": {
          "base_uri": "https://localhost:8080/"
        },
        "id": "Sle_b3vhEnxJ",
        "outputId": "949f4991-7cb5-48f0-93b4-bda3767e44b3"
      },
      "outputs": [
        {
          "name": "stdout",
          "output_type": "stream",
          "text": [
            "joao: (31)1111-1111\n",
            "maria: (31)9999-9992\n",
            "ze: ['(31)9999-9993', '(31)2222-1111']\n",
            "\n",
            "Nome:   joao\n",
            "        Telefone celular:        (31)9999-9991\n",
            "        Telefone comercial:        (31)1111-1111\n",
            "\n",
            "Nome:   maria\n",
            "        Telefone celular:        (31)9999-9992\n",
            "\n",
            "Nome:   ze\n",
            "        Telefone celular:        (31)9999-9993\n",
            "        Telefone residencial:        (31)2222-1111\n"
          ]
        }
      ],
      "source": [
        "# exercício 03 - <escrever o código neste bloco>\n",
        "\n",
        "agenda = {\n",
        "    \"joao\": {\n",
        "        \"celular\": \"(31)9999-9991\",\n",
        "        \"comercial\": \"(31)1111-1111\"\n",
        "    },\n",
        "    \"maria\": {\n",
        "        \"celular\": \"(31)9999-9992\"\n",
        "    },\n",
        "    \"ze\": {\n",
        "        \"celular\": \"(31)9999-9993\",\n",
        "        \"residencial\": \"(31)2222-1111\"\n",
        "    }\n",
        "}\n",
        "\n",
        "print(f\"joao: {agenda['joao']['comercial']}\")\n",
        "print(f\"maria: {agenda['maria']['celular']}\")\n",
        "print(f\"ze: {[agenda['ze']['celular'], agenda['ze']['residencial']]}\")\n",
        "\n",
        "print(\"\\nNome:   joao\")\n",
        "for tipo, numero in agenda[\"joao\"].items():\n",
        "    print(f\"        Telefone {tipo}:        {numero}\")\n",
        "\n",
        "print(\"\\nNome:   maria\")\n",
        "for tipo, numero in agenda[\"maria\"].items():\n",
        "    print(f\"        Telefone {tipo}:        {numero}\")\n",
        "\n",
        "print(\"\\nNome:   ze\")\n",
        "for tipo, numero in agenda[\"ze\"].items():\n",
        "    print(f\"        Telefone {tipo}:        {numero}\")\n"
      ]
    },
    {
      "cell_type": "markdown",
      "metadata": {
        "id": "pAnX6n5enDk7"
      },
      "source": [
        "### **04) Execute as seguintes tarefas**:\n",
        "\n",
        "1.   Dado o dicionário abaixo:\n",
        "```\n",
        "docs = {\n",
        "'documento 1' : 'palavras em python sobre dicionário em python',\n",
        "'documento 2' : 'palavras de dicionário de dicionário significa palavras de língua',\n",
        "'documento 3' : 'língua em dicionário significa sobre língua'\n",
        "}\n",
        "```\n",
        "2.   Crie as estruturas de dados que julgar necessário para exibir a saída abaixo\n",
        "\n",
        "**Saída esperada**:\n",
        "```\n",
        "LISTAR AS PALAVRAS POR DOCUMENTO:\n",
        "\n",
        "- documento 1 (total = 7 palavra(s)):\n",
        "   palavras aparece 1 vez(es)\n",
        "   em aparece 2 vez(es)\n",
        "   python aparece 2 vez(es)\n",
        "   sobre aparece 1 vez(es)\n",
        "   dicionário aparece 1 vez(es)\n",
        "\n",
        "- documento 2 (total = 9 palavra(s)):\n",
        "   palavras aparece 2 vez(es)\n",
        "   de aparece 3 vez(es)\n",
        "   dicionário aparece 2 vez(es)\n",
        "   significa aparece 1 vez(es)\n",
        "   língua aparece 1 vez(es)\n",
        "\n",
        "- documento 3 (total = 6 palavra(s)):\n",
        "   língua aparece 2 vez(es)\n",
        "   em aparece 1 vez(es)\n",
        "   dicionário aparece 1 vez(es)\n",
        "   significa aparece 1 vez(es)\n",
        "   sobre aparece 1 vez(es)\n",
        "\n",
        "```\n",
        "\n",
        "\n"
      ]
    },
    {
      "cell_type": "code",
      "execution_count": 28,
      "metadata": {
        "colab": {
          "base_uri": "https://localhost:8080/"
        },
        "id": "W33DEt9HnHFy",
        "outputId": "14aec711-e8b8-45da-e9da-f590d6ffb7df"
      },
      "outputs": [
        {
          "name": "stdout",
          "output_type": "stream",
          "text": [
            "LISTAR AS PALAVRAS POR DOCUMENTO:\n",
            "\n",
            "- documento 1 (total = 7 palavra(s)):\n",
            "   palavras aparece 1 vez(es)\n",
            "   em aparece 2 vez(es)\n",
            "   python aparece 2 vez(es)\n",
            "   sobre aparece 1 vez(es)\n",
            "   dicionário aparece 1 vez(es)\n",
            "- documento 2 (total = 9 palavra(s)):\n",
            "   palavras aparece 2 vez(es)\n",
            "   de aparece 3 vez(es)\n",
            "   dicionário aparece 2 vez(es)\n",
            "   significa aparece 1 vez(es)\n",
            "   língua aparece 1 vez(es)\n",
            "- documento 3 (total = 6 palavra(s)):\n",
            "   língua aparece 2 vez(es)\n",
            "   em aparece 1 vez(es)\n",
            "   dicionário aparece 1 vez(es)\n",
            "   significa aparece 1 vez(es)\n",
            "   sobre aparece 1 vez(es)\n"
          ]
        }
      ],
      "source": [
        "# exercício 04 - <escrever o código neste bloco>\n",
        "\n",
        "docs = {\n",
        "    'documento 1': 'palavras em python sobre dicionário em python',\n",
        "    'documento 2': 'palavras de dicionário de dicionário significa palavras de língua',\n",
        "    'documento 3': 'língua em dicionário significa sobre língua'\n",
        "}\n",
        "\n",
        "resultado = {}\n",
        "\n",
        "for documento in docs:\n",
        "    texto = docs[documento]\n",
        "    palavras = texto.split()\n",
        "    total_palavras = len(palavras)\n",
        "    frequencia = {}\n",
        "    for palavra in palavras:\n",
        "        palavra = palavra.lower()\n",
        "        if palavra in frequencia:\n",
        "            frequencia[palavra] += 1\n",
        "        else:\n",
        "            frequencia[palavra] = 1\n",
        "    resultado[documento] = {'total': total_palavras, 'frequência': frequencia}\n",
        "\n",
        "print(\"LISTAR AS PALAVRAS POR DOCUMENTO:\\n\")\n",
        "for documento in resultado:\n",
        "    total = resultado[documento]['total']\n",
        "    print(f\"- {documento} (total = {total} palavra(s)):\")\n",
        "    for palavra, freq in resultado[documento]['frequência'].items():\n",
        "        print(f\"   {palavra} aparece {freq} vez(es)\")\n"
      ]
    }
  ],
  "metadata": {
    "colab": {
      "provenance": []
    },
    "kernelspec": {
      "display_name": "Python 3",
      "language": "python",
      "name": "python3"
    },
    "language_info": {
      "codemirror_mode": {
        "name": "ipython",
        "version": 3
      },
      "file_extension": ".py",
      "mimetype": "text/x-python",
      "name": "python",
      "nbconvert_exporter": "python",
      "pygments_lexer": "ipython3",
      "version": "3.7.4"
    }
  },
  "nbformat": 4,
  "nbformat_minor": 0
}
